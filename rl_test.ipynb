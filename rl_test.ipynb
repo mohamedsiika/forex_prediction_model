{
 "cells": [
  {
   "cell_type": "code",
   "execution_count": 28,
   "metadata": {},
   "outputs": [],
   "source": [
    "from trader_DQN import trader\n",
    "from environment import OhlcvEnv\n",
    "import pandas as pd\n",
    "import numpy as np\n",
    "import keras\n"
   ]
  },
  {
   "cell_type": "code",
   "execution_count": 23,
   "metadata": {},
   "outputs": [],
   "source": [
    "df=pd.read_excel('./data/test/data_Hourly.xlsx')\n",
    "z=df[:79]\n"
   ]
  },
  {
   "cell_type": "code",
   "execution_count": 24,
   "metadata": {},
   "outputs": [
    {
     "data": {
      "text/html": [
       "<div>\n",
       "<style scoped>\n",
       "    .dataframe tbody tr th:only-of-type {\n",
       "        vertical-align: middle;\n",
       "    }\n",
       "\n",
       "    .dataframe tbody tr th {\n",
       "        vertical-align: top;\n",
       "    }\n",
       "\n",
       "    .dataframe thead th {\n",
       "        text-align: right;\n",
       "    }\n",
       "</style>\n",
       "<table border=\"1\" class=\"dataframe\">\n",
       "  <thead>\n",
       "    <tr style=\"text-align: right;\">\n",
       "      <th></th>\n",
       "      <th>Unnamed: 0</th>\n",
       "      <th>time</th>\n",
       "      <th>open</th>\n",
       "      <th>high</th>\n",
       "      <th>low</th>\n",
       "      <th>close</th>\n",
       "      <th>tick_volume</th>\n",
       "      <th>spread</th>\n",
       "      <th>real_volume</th>\n",
       "    </tr>\n",
       "  </thead>\n",
       "  <tbody>\n",
       "    <tr>\n",
       "      <th>0</th>\n",
       "      <td>0</td>\n",
       "      <td>2006-01-03 07:00:00</td>\n",
       "      <td>1.1892</td>\n",
       "      <td>1.1905</td>\n",
       "      <td>1.1872</td>\n",
       "      <td>1.1876</td>\n",
       "      <td>359</td>\n",
       "      <td>20</td>\n",
       "      <td>0</td>\n",
       "    </tr>\n",
       "    <tr>\n",
       "      <th>1</th>\n",
       "      <td>1</td>\n",
       "      <td>2006-01-03 08:00:00</td>\n",
       "      <td>1.1876</td>\n",
       "      <td>1.1891</td>\n",
       "      <td>1.1871</td>\n",
       "      <td>1.1882</td>\n",
       "      <td>451</td>\n",
       "      <td>20</td>\n",
       "      <td>0</td>\n",
       "    </tr>\n",
       "    <tr>\n",
       "      <th>2</th>\n",
       "      <td>2</td>\n",
       "      <td>2006-01-03 09:00:00</td>\n",
       "      <td>1.1886</td>\n",
       "      <td>1.1906</td>\n",
       "      <td>1.1875</td>\n",
       "      <td>1.1879</td>\n",
       "      <td>442</td>\n",
       "      <td>20</td>\n",
       "      <td>0</td>\n",
       "    </tr>\n",
       "    <tr>\n",
       "      <th>3</th>\n",
       "      <td>3</td>\n",
       "      <td>2006-01-03 10:00:00</td>\n",
       "      <td>1.1880</td>\n",
       "      <td>1.1891</td>\n",
       "      <td>1.1860</td>\n",
       "      <td>1.1885</td>\n",
       "      <td>452</td>\n",
       "      <td>20</td>\n",
       "      <td>0</td>\n",
       "    </tr>\n",
       "    <tr>\n",
       "      <th>4</th>\n",
       "      <td>4</td>\n",
       "      <td>2006-01-03 11:00:00</td>\n",
       "      <td>1.1885</td>\n",
       "      <td>1.1896</td>\n",
       "      <td>1.1880</td>\n",
       "      <td>1.1889</td>\n",
       "      <td>396</td>\n",
       "      <td>20</td>\n",
       "      <td>0</td>\n",
       "    </tr>\n",
       "  </tbody>\n",
       "</table>\n",
       "</div>"
      ],
      "text/plain": [
       "   Unnamed: 0                time    open    high     low   close  \\\n",
       "0           0 2006-01-03 07:00:00  1.1892  1.1905  1.1872  1.1876   \n",
       "1           1 2006-01-03 08:00:00  1.1876  1.1891  1.1871  1.1882   \n",
       "2           2 2006-01-03 09:00:00  1.1886  1.1906  1.1875  1.1879   \n",
       "3           3 2006-01-03 10:00:00  1.1880  1.1891  1.1860  1.1885   \n",
       "4           4 2006-01-03 11:00:00  1.1885  1.1896  1.1880  1.1889   \n",
       "\n",
       "   tick_volume  spread  real_volume  \n",
       "0          359      20            0  \n",
       "1          451      20            0  \n",
       "2          442      20            0  \n",
       "3          452      20            0  \n",
       "4          396      20            0  "
      ]
     },
     "execution_count": 24,
     "metadata": {},
     "output_type": "execute_result"
    }
   ],
   "source": [
    "z.head()"
   ]
  },
  {
   "cell_type": "code",
   "execution_count": null,
   "metadata": {},
   "outputs": [],
   "source": [
    "trader=trader()\n",
    "trader.dqn.load_weights('./model/duel_dqn_OHLCV-v0_weights_1101LS_211_200_98.73.h5f')\n"
   ]
  },
  {
   "cell_type": "code",
   "execution_count": 26,
   "metadata": {},
   "outputs": [
    {
     "name": "stderr",
     "output_type": "stream",
     "text": [
      "e:\\siika\\python\\lib\\site-packages\\pandas\\core\\frame.py:4906: SettingWithCopyWarning: \n",
      "A value is trying to be set on a copy of a slice from a DataFrame\n",
      "\n",
      "See the caveats in the documentation: https://pandas.pydata.org/pandas-docs/stable/user_guide/indexing.html#returning-a-view-versus-a-copy\n",
      "  return super().drop(\n",
      "e:\\siika\\forex\\forex_prediction_model\\DataPreprocessing_funs.py:11: SettingWithCopyWarning: \n",
      "A value is trying to be set on a copy of a slice from a DataFrame.\n",
      "Try using .loc[row_indexer,col_indexer] = value instead\n",
      "\n",
      "See the caveats in the documentation: https://pandas.pydata.org/pandas-docs/stable/user_guide/indexing.html#returning-a-view-versus-a-copy\n",
      "  df['HLAvg'] = df['high'].add(df['low']).div(2)\n",
      "e:\\siika\\forex\\forex_prediction_model\\DataPreprocessing_funs.py:12: SettingWithCopyWarning: \n",
      "A value is trying to be set on a copy of a slice from a DataFrame.\n",
      "Try using .loc[row_indexer,col_indexer] = value instead\n",
      "\n",
      "See the caveats in the documentation: https://pandas.pydata.org/pandas-docs/stable/user_guide/indexing.html#returning-a-view-versus-a-copy\n",
      "  df['MA'] = df['HLAvg'].rolling(window = MA_windowSize).mean()\n",
      "e:\\siika\\forex\\forex_prediction_model\\DataPreprocessing_funs.py:13: SettingWithCopyWarning: \n",
      "A value is trying to be set on a copy of a slice from a DataFrame.\n",
      "Try using .loc[row_indexer,col_indexer] = value instead\n",
      "\n",
      "See the caveats in the documentation: https://pandas.pydata.org/pandas-docs/stable/user_guide/indexing.html#returning-a-view-versus-a-copy\n",
      "  df['Returns'] = np.log(df['MA'] / df['MA'].shift(1))\n",
      "e:\\siika\\python\\lib\\site-packages\\keras\\engine\\training_v1.py:2079: UserWarning: `Model.state_updates` will be removed in a future version. This property should not be used in TensorFlow 2.0, as `updates` are applied automatically.\n",
      "  updates=self.state_updates,\n"
     ]
    },
    {
     "name": "stdout",
     "output_type": "stream",
     "text": [
      "<class 'pandas.core.frame.DataFrame'>\n",
      "Testing for 1 episodes ...\n",
      "65\n",
      "Episode 1: reward: 0.300, steps: 1\n"
     ]
    }
   ],
   "source": [
    "env_test=OhlcvEnv(window_size=64,test_data=z)\n",
    "info=trader.dqn.test(env_test,nb_episodes=1)"
   ]
  },
  {
   "cell_type": "code",
   "execution_count": 27,
   "metadata": {},
   "outputs": [
    {
     "data": {
      "text/plain": [
       "{'portfolio': array([1000.]),\n",
       " 'history': [(0, 1, 1.2014, 1000.0, 0)],\n",
       " 'n_trades': {'long': 0, 'short': 0},\n",
       " 'total_reward': 0.29999999999996696}"
      ]
     },
     "execution_count": 27,
     "metadata": {},
     "output_type": "execute_result"
    }
   ],
   "source": [
    "info"
   ]
  }
 ],
 "metadata": {
  "kernelspec": {
   "display_name": "Python 3.9.0 64-bit",
   "language": "python",
   "name": "python3"
  },
  "language_info": {
   "codemirror_mode": {
    "name": "ipython",
    "version": 3
   },
   "file_extension": ".py",
   "mimetype": "text/x-python",
   "name": "python",
   "nbconvert_exporter": "python",
   "pygments_lexer": "ipython3",
   "version": "3.9.0"
  },
  "orig_nbformat": 4,
  "vscode": {
   "interpreter": {
    "hash": "109dc45cfe3c06019da5e99e37f41500b83ed95cc3a6b022a0bdfe66f2864dda"
   }
  }
 },
 "nbformat": 4,
 "nbformat_minor": 2
}
